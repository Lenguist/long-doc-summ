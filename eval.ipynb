{
 "cells": [
  {
   "cell_type": "code",
   "execution_count": 1,
   "metadata": {},
   "outputs": [
    {
     "name": "stdout",
     "output_type": "stream",
     "text": [
      "Hello\n"
     ]
    }
   ],
   "source": [
    "print(\"Hello\")"
   ]
  },
  {
   "cell_type": "code",
   "execution_count": 5,
   "metadata": {},
   "outputs": [
    {
     "name": "stdout",
     "output_type": "stream",
     "text": [
      "Defaulting to user installation because normal site-packages is not writeable\n",
      "Collecting qafacteval\n",
      "  Using cached qafacteval-0.10-py3-none-any.whl (3.3 kB)\n",
      "Collecting qaeval\n",
      "  Using cached qaeval-0.1.0-py3-none-any.whl (42 kB)\n",
      "Collecting edlib\n",
      "  Using cached edlib-1.3.9.tar.gz (91 kB)\n",
      "Collecting transformers==3.0.2\n",
      "  Using cached transformers-3.0.2-py3-none-any.whl (769 kB)\n",
      "Collecting qaeval\n",
      "  Using cached qaeval-0.0.9-py3-none-any.whl (36 kB)\n",
      "  Using cached qaeval-0.0.8-py3-none-any.whl (36 kB)\n",
      "  Using cached qaeval-0.0.7-py3-none-any.whl (28 kB)\n",
      "  Using cached qaeval-0.0.6-py3-none-any.whl (26 kB)\n",
      "  Using cached qaeval-0.0.5-py3-none-any.whl (26 kB)\n",
      "  Using cached qaeval-0.0.3-py3-none-any.whl (18 kB)\n",
      "  Using cached qaeval-0.0.2-py3-none-any.whl (18 kB)\n",
      "  Using cached qaeval-0.0.1-py3-none-any.whl (18 kB)\n",
      "INFO: pip is looking at multiple versions of qafacteval to determine which version is compatible with other requirements. This could take a while.\n",
      "\u001b[31mERROR: Cannot install qafacteval because these package versions have conflicting dependencies.\u001b[0m\n",
      "\n",
      "The conflict is caused by:\n",
      "    qaeval 0.1.0 depends on torch==1.6.0\n",
      "    qaeval 0.0.9 depends on torch==1.6.0\n",
      "    qaeval 0.0.8 depends on torch==1.6.0\n",
      "    qaeval 0.0.7 depends on torch==1.6.0\n",
      "    qaeval 0.0.6 depends on torch==1.6.0\n",
      "    qaeval 0.0.5 depends on torch==1.6.0\n",
      "    qaeval 0.0.3 depends on torch==1.6.0\n",
      "    qaeval 0.0.2 depends on torch==1.6.0\n",
      "    qaeval 0.0.1 depends on torch==1.6.0\n",
      "\n",
      "To fix this you could try to:\n",
      "1. loosen the range of package versions you've specified\n",
      "2. remove package versions to allow pip attempt to solve the dependency conflict\n",
      "\n",
      "\u001b[31mERROR: ResolutionImpossible: for help visit https://pip.pypa.io/en/latest/user_guide/#fixing-conflicting-dependencies\u001b[0m\n",
      "\u001b[33mWARNING: You are using pip version 21.2.4; however, version 23.1.2 is available.\n",
      "You should consider upgrading via the '/Library/Developer/CommandLineTools/usr/bin/python3 -m pip install --upgrade pip' command.\u001b[0m\n",
      "Note: you may need to restart the kernel to use updated packages.\n"
     ]
    }
   ],
   "source": [
    "%pip install qafacteval"
   ]
  },
  {
   "cell_type": "code",
   "execution_count": 4,
   "metadata": {},
   "outputs": [
    {
     "ename": "ModuleNotFoundError",
     "evalue": "No module named 'qafacteval'",
     "output_type": "error",
     "traceback": [
      "\u001b[0;31m---------------------------------------------------------------------------\u001b[0m",
      "\u001b[0;31mModuleNotFoundError\u001b[0m                       Traceback (most recent call last)",
      "Cell \u001b[0;32mIn[4], line 1\u001b[0m\n\u001b[0;32m----> 1\u001b[0m \u001b[39mfrom\u001b[39;00m \u001b[39mqafacteval\u001b[39;00m \u001b[39mimport\u001b[39;00m QAFactEval\n\u001b[1;32m      2\u001b[0m kwargs \u001b[39m=\u001b[39m {\u001b[39m\"\u001b[39m\u001b[39mcuda_device\u001b[39m\u001b[39m\"\u001b[39m: \u001b[39m0\u001b[39m, \u001b[39m\"\u001b[39m\u001b[39muse_lerc_quip\u001b[39m\u001b[39m\"\u001b[39m: \u001b[39mTrue\u001b[39;00m, \\\n\u001b[1;32m      3\u001b[0m         \u001b[39m\"\u001b[39m\u001b[39mverbose\u001b[39m\u001b[39m\"\u001b[39m: \u001b[39mTrue\u001b[39;00m, \u001b[39m\"\u001b[39m\u001b[39mgeneration_batch_size\u001b[39m\u001b[39m\"\u001b[39m: \u001b[39m32\u001b[39m, \\\n\u001b[1;32m      4\u001b[0m         \u001b[39m\"\u001b[39m\u001b[39manswering_batch_size\u001b[39m\u001b[39m\"\u001b[39m: \u001b[39m32\u001b[39m, \u001b[39m\"\u001b[39m\u001b[39mlerc_batch_size\u001b[39m\u001b[39m\"\u001b[39m: \u001b[39m8\u001b[39m}\n\u001b[1;32m      6\u001b[0m model_folder \u001b[39m=\u001b[39m \u001b[39m\"\u001b[39m\u001b[39m\"\u001b[39m \u001b[39m# path to models downloaded with download_models.sh\u001b[39;00m\n",
      "\u001b[0;31mModuleNotFoundError\u001b[0m: No module named 'qafacteval'"
     ]
    }
   ],
   "source": [
    "from qafacteval import QAFactEval\n",
    "kwargs = {\"cuda_device\": 0, \"use_lerc_quip\": True, \\\n",
    "        \"verbose\": True, \"generation_batch_size\": 32, \\\n",
    "        \"answering_batch_size\": 32, \"lerc_batch_size\": 8}\n",
    "\n",
    "model_folder = \"\" # path to models downloaded with download_models.sh\n",
    "metric = QAFactEval(\n",
    "    lerc_quip_path=f\"{model_folder}/quip-512-mocha\",\n",
    "    generation_model_path=f\"{model_folder}/generation/model.tar.gz\",\n",
    "    answering_model_dir=f\"{model_folder}/answering\",\n",
    "    lerc_model_path=f\"{model_folder}/lerc/model.tar.gz\",\n",
    "    lerc_pretrained_model_path=f\"{model_folder}/lerc/pretraining.tar.gz\",\n",
    "    **kwargs\n",
    ")\n",
    "\n",
    "results = metric.score_batch_qafacteval([\"This is a source document\"], [[\"This is a summary.\"]], return_qa_pairs=True)\n",
    "score = results[0][0]['qa-eval']['lerc_quip']\n"
   ]
  },
  {
   "cell_type": "code",
   "execution_count": null,
   "metadata": {},
   "outputs": [],
   "source": []
  }
 ],
 "metadata": {
  "kernelspec": {
   "display_name": "Python 3",
   "language": "python",
   "name": "python3"
  },
  "language_info": {
   "codemirror_mode": {
    "name": "ipython",
    "version": 3
   },
   "file_extension": ".py",
   "mimetype": "text/x-python",
   "name": "python",
   "nbconvert_exporter": "python",
   "pygments_lexer": "ipython3",
   "version": "3.9.6"
  },
  "orig_nbformat": 4
 },
 "nbformat": 4,
 "nbformat_minor": 2
}
