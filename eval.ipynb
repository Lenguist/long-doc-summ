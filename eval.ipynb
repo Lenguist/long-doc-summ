{
 "cells": [
  {
   "cell_type": "code",
   "execution_count": 12,
   "metadata": {},
   "outputs": [],
   "source": [
    "# Running different evaluations for long-doc-summ\n",
    "\n",
    "\"\"\"\n",
    "to implement:\n",
    "R-1, R-2, R-L, BERTScore, METEOR\n",
    "Automatic metrics to compare against previous papers\n",
    "SNaC for coherence\n",
    "Full code in this repo https://github.com/tagoyal/snac\n",
    "Should be easy to run their T5 models unless I’m retraining\n",
    "QAFactEval for faithfulness\n",
    "Full code in this repo https://github.com/salesforce/QAFactEval#using-qafacteval\n",
    "Should be easy to run but not tested for my domain\n",
    "Need automatic metric for coverage\n",
    "AI-eval\n",
    "Just ask GPT-4 the same questions as to the humans\n",
    "See what Faisal is doing with this\n",
    "https://arxiv.org/pdf/2305.17926.pdf\n",
    "Human-eval\n",
    "Is the summary correct relative to the passage?\n",
    "Does the summary cover the important events?\n",
    "Is the summary well-written and coherent?\n",
    "Preference relative to baseline summary\n",
    "Writing class will evaluate summaries of their own work\n",
    "Add interpretation here\n",
    "What do we want to get out of the eval? Have this drive the approach\n",
    "Strategies from here https://arxiv.org/pdf/2301.13298.pdf\n",
    "Error analysis on low quality summaries\n",
    "\"\"\""
   ]
  },
  {
   "cell_type": "code",
   "execution_count": 13,
   "metadata": {},
   "outputs": [],
   "source": [
    "orig_path = \"booksumm-sample2/what-maisie-knew\""
   ]
  },
  {
   "cell_type": "code",
   "execution_count": 14,
   "metadata": {},
   "outputs": [],
   "source": [
    "import json\n",
    "\n",
    "with open(orig_path+\"/metadata.json\") as f:\n",
    "  book_metadata = json.load(f)"
   ]
  },
  {
   "cell_type": "code",
   "execution_count": 15,
   "metadata": {},
   "outputs": [
    {
     "data": {
      "text/plain": [
       "{'title': 'What Maisie Knew',\n",
       " 'author': 'Henry James',\n",
       " 'total-chapters': 31,\n",
       " 'average-chapter-len': 4256.935483870968,\n",
       " 'dir': '7118-chapters'}"
      ]
     },
     "execution_count": 15,
     "metadata": {},
     "output_type": "execute_result"
    }
   ],
   "source": [
    "book_metadata"
   ]
  },
  {
   "cell_type": "code",
   "execution_count": 16,
   "metadata": {},
   "outputs": [
    {
     "data": {
      "text/plain": [
       "'Maisie has to go back to her father and Miss Overmore . This means that she has to say goodbye to Mrs. Wix for the first time, and this is super, super sad! Maisie asks her father if he liked Miss Overmore \"just the same\" while she was at her mother\\'s . This embarrasses Miss Overmore, even though Beale Farange makes no secret of having been with Miss Overmore the whole time. This is just above Maisie\\'s head. She, too, feels embarrassed and wonders why Miss Overmore has been awkward. She also tries to figure out the nature of her father\\'s relationship to Miss Overmore. Maisie takes to treating her doll, Lisette, the way she herself is treated by her mother and Miss Overmore. She keeps secrets from her doll and even reprimands her for asking indiscreet questions.'"
      ]
     },
     "execution_count": 16,
     "metadata": {},
     "output_type": "execute_result"
    }
   ],
   "source": [
    "import os\n",
    "import json\n",
    "import pandas as pd\n",
    "\n",
    "# Define directory paths\n",
    "dir_path1 = \"booksumm-sample2/what-maisie-knew\"\n",
    "dir_path2 = \"gpt4_summaries/what-maisie-knew\"\n",
    "\n",
    "# Define the data structure\n",
    "data = {\n",
    "    \"subdir\": [],\n",
    "    \"metadata\": [],\n",
    "    \"content\": [],\n",
    "    \"summaries\": [],\n",
    "    \"new_summary\": []\n",
    "}\n",
    "\n",
    "# Loop over subdirectories\n",
    "for subdir in os.listdir(dir_path1):\n",
    "    subdir_path1 = os.path.join(dir_path1, subdir)\n",
    "\n",
    "    # If the path is a directory, process it\n",
    "    if os.path.isdir(subdir_path1):\n",
    "        data[\"subdir\"].append(subdir)\n",
    "\n",
    "        # Process metadata.json\n",
    "        with open(os.path.join(subdir_path1, \"metadata.json\"), 'r') as f:\n",
    "            data[\"metadata\"].append(json.load(f))\n",
    "\n",
    "        # Process content.txt\n",
    "        with open(os.path.join(subdir_path1, \"content.txt\"), 'r') as f:\n",
    "            data[\"content\"].append(f.read())\n",
    "\n",
    "        # Process summaries\n",
    "        summaries = []\n",
    "        for file in os.listdir(subdir_path1):\n",
    "            if file.endswith(\"summary.txt\"):\n",
    "                with open(os.path.join(subdir_path1, file), 'r') as f:\n",
    "                    content = f.read()\n",
    "                    summaries.append(content)\n",
    "        data[\"summaries\"].append(summaries)\n",
    "\n",
    "        # Process new directory\n",
    "        subdir_path2 = os.path.join(dir_path2, subdir)\n",
    "        if os.path.isdir(subdir_path2):\n",
    "            with open(os.path.join(subdir_path2, \"summary.txt\"), 'r') as f:\n",
    "                data[\"new_summary\"].append(f.read())\n",
    "        else:\n",
    "            data[\"new_summary\"].append(None)\n",
    "\n",
    "# Create a DataFrame\n",
    "df = pd.DataFrame(data)\n",
    "df = df.set_index('subdir')  # Set index to subdirectory names\n",
    "\n",
    "\n",
    "json.loads(df['summaries'][0][0])[\"summary\"]\n"
   ]
  },
  {
   "cell_type": "code",
   "execution_count": 17,
   "metadata": {},
   "outputs": [
    {
     "data": {
      "text/html": [
       "<div>\n",
       "<style scoped>\n",
       "    .dataframe tbody tr th:only-of-type {\n",
       "        vertical-align: middle;\n",
       "    }\n",
       "\n",
       "    .dataframe tbody tr th {\n",
       "        vertical-align: top;\n",
       "    }\n",
       "\n",
       "    .dataframe thead th {\n",
       "        text-align: right;\n",
       "    }\n",
       "</style>\n",
       "<table border=\"1\" class=\"dataframe\">\n",
       "  <thead>\n",
       "    <tr style=\"text-align: right;\">\n",
       "      <th></th>\n",
       "      <th>metadata</th>\n",
       "      <th>content</th>\n",
       "      <th>summaries</th>\n",
       "      <th>new_summary</th>\n",
       "    </tr>\n",
       "    <tr>\n",
       "      <th>subdir</th>\n",
       "      <th></th>\n",
       "      <th></th>\n",
       "      <th></th>\n",
       "      <th></th>\n",
       "    </tr>\n",
       "  </thead>\n",
       "  <tbody>\n",
       "    <tr>\n",
       "      <th>05</th>\n",
       "      <td>{'book-id': '7118-chapters', 'chapter-id': '05...</td>\n",
       "      <td>\\n\\nThe second parting from Miss Overmore had ...</td>\n",
       "      <td>[{\"name\": \"Chapter V\", \"url\": \"https://web.arc...</td>\n",
       "      <td>This chapter revolves around a young girl name...</td>\n",
       "    </tr>\n",
       "    <tr>\n",
       "      <th>21</th>\n",
       "      <td>{'book-id': '7118-chapters', 'chapter-id': '21...</td>\n",
       "      <td>\\n\\nA good deal of the rest of Ida's visit was...</td>\n",
       "      <td>[{\"name\": \"Chapter XXI\", \"url\": \"https://web.a...</td>\n",
       "      <td>In this chapter, Maisie and her mother, Ida, s...</td>\n",
       "    </tr>\n",
       "    <tr>\n",
       "      <th>30</th>\n",
       "      <td>{'book-id': '7118-chapters', 'chapter-id': '30...</td>\n",
       "      <td>\\n\\nAfter they were seated there it was differ...</td>\n",
       "      <td>[{\"name\": \"Chapter XXX\", \"url\": \"https://web.a...</td>\n",
       "      <td>In this chapter, Sir Claude and Maisie have a ...</td>\n",
       "    </tr>\n",
       "    <tr>\n",
       "      <th>23</th>\n",
       "      <td>{'book-id': '7118-chapters', 'chapter-id': '23...</td>\n",
       "      <td>\\n\\nSir Claude was stationed at the window; he...</td>\n",
       "      <td>[{\"name\": \"Chapter XXIII\", \"url\": \"https://web...</td>\n",
       "      <td>In this chapter, Mrs. Wix, Sir Claude, and Mai...</td>\n",
       "    </tr>\n",
       "    <tr>\n",
       "      <th>14</th>\n",
       "      <td>{'book-id': '7118-chapters', 'chapter-id': '14...</td>\n",
       "      <td>\\n\\nMrs Beale fairly swooped upon her and the ...</td>\n",
       "      <td>[{\"name\": \"Chapter XIV\", \"url\": \"https://web.a...</td>\n",
       "      <td>In this chapter, Maisie is reunited with her s...</td>\n",
       "    </tr>\n",
       "  </tbody>\n",
       "</table>\n",
       "</div>"
      ],
      "text/plain": [
       "                                                 metadata  \\\n",
       "subdir                                                      \n",
       "05      {'book-id': '7118-chapters', 'chapter-id': '05...   \n",
       "21      {'book-id': '7118-chapters', 'chapter-id': '21...   \n",
       "30      {'book-id': '7118-chapters', 'chapter-id': '30...   \n",
       "23      {'book-id': '7118-chapters', 'chapter-id': '23...   \n",
       "14      {'book-id': '7118-chapters', 'chapter-id': '14...   \n",
       "\n",
       "                                                  content  \\\n",
       "subdir                                                      \n",
       "05      \\n\\nThe second parting from Miss Overmore had ...   \n",
       "21      \\n\\nA good deal of the rest of Ida's visit was...   \n",
       "30      \\n\\nAfter they were seated there it was differ...   \n",
       "23      \\n\\nSir Claude was stationed at the window; he...   \n",
       "14      \\n\\nMrs Beale fairly swooped upon her and the ...   \n",
       "\n",
       "                                                summaries  \\\n",
       "subdir                                                      \n",
       "05      [{\"name\": \"Chapter V\", \"url\": \"https://web.arc...   \n",
       "21      [{\"name\": \"Chapter XXI\", \"url\": \"https://web.a...   \n",
       "30      [{\"name\": \"Chapter XXX\", \"url\": \"https://web.a...   \n",
       "23      [{\"name\": \"Chapter XXIII\", \"url\": \"https://web...   \n",
       "14      [{\"name\": \"Chapter XIV\", \"url\": \"https://web.a...   \n",
       "\n",
       "                                              new_summary  \n",
       "subdir                                                     \n",
       "05      This chapter revolves around a young girl name...  \n",
       "21      In this chapter, Maisie and her mother, Ida, s...  \n",
       "30      In this chapter, Sir Claude and Maisie have a ...  \n",
       "23      In this chapter, Mrs. Wix, Sir Claude, and Mai...  \n",
       "14      In this chapter, Maisie is reunited with her s...  "
      ]
     },
     "execution_count": 17,
     "metadata": {},
     "output_type": "execute_result"
    }
   ],
   "source": [
    "df"
   ]
  },
  {
   "cell_type": "code",
   "execution_count": 18,
   "metadata": {},
   "outputs": [],
   "source": [
    "def process_summary(summary_list):\n",
    "  new_list = []\n",
    "  for summary in summary_list:\n",
    "    out = json.loads(summary)[\"summary\"]\n",
    "    new_list.append(out)\n",
    "  return new_list\n"
   ]
  },
  {
   "cell_type": "code",
   "execution_count": 19,
   "metadata": {},
   "outputs": [],
   "source": [
    "df[\"summaries\"] = df['summaries'].apply(process_summary)"
   ]
  },
  {
   "cell_type": "code",
   "execution_count": 20,
   "metadata": {},
   "outputs": [
    {
     "data": {
      "text/html": [
       "<div>\n",
       "<style scoped>\n",
       "    .dataframe tbody tr th:only-of-type {\n",
       "        vertical-align: middle;\n",
       "    }\n",
       "\n",
       "    .dataframe tbody tr th {\n",
       "        vertical-align: top;\n",
       "    }\n",
       "\n",
       "    .dataframe thead th {\n",
       "        text-align: right;\n",
       "    }\n",
       "</style>\n",
       "<table border=\"1\" class=\"dataframe\">\n",
       "  <thead>\n",
       "    <tr style=\"text-align: right;\">\n",
       "      <th></th>\n",
       "      <th>metadata</th>\n",
       "      <th>content</th>\n",
       "      <th>summaries</th>\n",
       "      <th>new_summary</th>\n",
       "    </tr>\n",
       "    <tr>\n",
       "      <th>subdir</th>\n",
       "      <th></th>\n",
       "      <th></th>\n",
       "      <th></th>\n",
       "      <th></th>\n",
       "    </tr>\n",
       "  </thead>\n",
       "  <tbody>\n",
       "    <tr>\n",
       "      <th>05</th>\n",
       "      <td>{'book-id': '7118-chapters', 'chapter-id': '05...</td>\n",
       "      <td>\\n\\nThe second parting from Miss Overmore had ...</td>\n",
       "      <td>[Maisie has to go back to her father and Miss ...</td>\n",
       "      <td>This chapter revolves around a young girl name...</td>\n",
       "    </tr>\n",
       "    <tr>\n",
       "      <th>21</th>\n",
       "      <td>{'book-id': '7118-chapters', 'chapter-id': '21...</td>\n",
       "      <td>\\n\\nA good deal of the rest of Ida's visit was...</td>\n",
       "      <td>[Ida and Maisie have a heart-to-heart. Ida is ...</td>\n",
       "      <td>In this chapter, Maisie and her mother, Ida, s...</td>\n",
       "    </tr>\n",
       "    <tr>\n",
       "      <th>30</th>\n",
       "      <td>{'book-id': '7118-chapters', 'chapter-id': '30...</td>\n",
       "      <td>\\n\\nAfter they were seated there it was differ...</td>\n",
       "      <td>[Maisie's cafe trip with Sir Claude turns into...</td>\n",
       "      <td>In this chapter, Sir Claude and Maisie have a ...</td>\n",
       "    </tr>\n",
       "    <tr>\n",
       "      <th>23</th>\n",
       "      <td>{'book-id': '7118-chapters', 'chapter-id': '23...</td>\n",
       "      <td>\\n\\nSir Claude was stationed at the window; he...</td>\n",
       "      <td>[Mrs. Wix says that she has seen Maisie's moth...</td>\n",
       "      <td>In this chapter, Mrs. Wix, Sir Claude, and Mai...</td>\n",
       "    </tr>\n",
       "    <tr>\n",
       "      <th>14</th>\n",
       "      <td>{'book-id': '7118-chapters', 'chapter-id': '14...</td>\n",
       "      <td>\\n\\nMrs Beale fairly swooped upon her and the ...</td>\n",
       "      <td>[Mrs. Beale lets it slip that she and Sir Clau...</td>\n",
       "      <td>In this chapter, Maisie is reunited with her s...</td>\n",
       "    </tr>\n",
       "  </tbody>\n",
       "</table>\n",
       "</div>"
      ],
      "text/plain": [
       "                                                 metadata  \\\n",
       "subdir                                                      \n",
       "05      {'book-id': '7118-chapters', 'chapter-id': '05...   \n",
       "21      {'book-id': '7118-chapters', 'chapter-id': '21...   \n",
       "30      {'book-id': '7118-chapters', 'chapter-id': '30...   \n",
       "23      {'book-id': '7118-chapters', 'chapter-id': '23...   \n",
       "14      {'book-id': '7118-chapters', 'chapter-id': '14...   \n",
       "\n",
       "                                                  content  \\\n",
       "subdir                                                      \n",
       "05      \\n\\nThe second parting from Miss Overmore had ...   \n",
       "21      \\n\\nA good deal of the rest of Ida's visit was...   \n",
       "30      \\n\\nAfter they were seated there it was differ...   \n",
       "23      \\n\\nSir Claude was stationed at the window; he...   \n",
       "14      \\n\\nMrs Beale fairly swooped upon her and the ...   \n",
       "\n",
       "                                                summaries  \\\n",
       "subdir                                                      \n",
       "05      [Maisie has to go back to her father and Miss ...   \n",
       "21      [Ida and Maisie have a heart-to-heart. Ida is ...   \n",
       "30      [Maisie's cafe trip with Sir Claude turns into...   \n",
       "23      [Mrs. Wix says that she has seen Maisie's moth...   \n",
       "14      [Mrs. Beale lets it slip that she and Sir Clau...   \n",
       "\n",
       "                                              new_summary  \n",
       "subdir                                                     \n",
       "05      This chapter revolves around a young girl name...  \n",
       "21      In this chapter, Maisie and her mother, Ida, s...  \n",
       "30      In this chapter, Sir Claude and Maisie have a ...  \n",
       "23      In this chapter, Mrs. Wix, Sir Claude, and Mai...  \n",
       "14      In this chapter, Maisie is reunited with her s...  "
      ]
     },
     "execution_count": 20,
     "metadata": {},
     "output_type": "execute_result"
    }
   ],
   "source": [
    "df"
   ]
  },
  {
   "cell_type": "code",
   "execution_count": 21,
   "metadata": {},
   "outputs": [
    {
     "name": "stdout",
     "output_type": "stream",
     "text": [
      "Requirement already satisfied: rouge_score in /Users/mbondarenko/opt/anaconda3/envs/long-doc-summ/lib/python3.8/site-packages (0.1.2)\n",
      "Requirement already satisfied: absl-py in /Users/mbondarenko/opt/anaconda3/envs/long-doc-summ/lib/python3.8/site-packages (from rouge_score) (1.4.0)\n",
      "Requirement already satisfied: nltk in /Users/mbondarenko/opt/anaconda3/envs/long-doc-summ/lib/python3.8/site-packages (from rouge_score) (3.8.1)\n",
      "Requirement already satisfied: numpy in /Users/mbondarenko/opt/anaconda3/envs/long-doc-summ/lib/python3.8/site-packages (from rouge_score) (1.24.4)\n",
      "Requirement already satisfied: six>=1.14.0 in /Users/mbondarenko/opt/anaconda3/envs/long-doc-summ/lib/python3.8/site-packages (from rouge_score) (1.16.0)\n",
      "Requirement already satisfied: click in /Users/mbondarenko/opt/anaconda3/envs/long-doc-summ/lib/python3.8/site-packages (from nltk->rouge_score) (8.1.4)\n",
      "Requirement already satisfied: joblib in /Users/mbondarenko/opt/anaconda3/envs/long-doc-summ/lib/python3.8/site-packages (from nltk->rouge_score) (1.3.1)\n",
      "Requirement already satisfied: regex>=2021.8.3 in /Users/mbondarenko/opt/anaconda3/envs/long-doc-summ/lib/python3.8/site-packages (from nltk->rouge_score) (2023.6.3)\n",
      "Requirement already satisfied: tqdm in /Users/mbondarenko/opt/anaconda3/envs/long-doc-summ/lib/python3.8/site-packages (from nltk->rouge_score) (4.65.0)\n",
      "Note: you may need to restart the kernel to use updated packages.\n",
      "Requirement already satisfied: nltk in /Users/mbondarenko/opt/anaconda3/envs/long-doc-summ/lib/python3.8/site-packages (3.8.1)\n",
      "Requirement already satisfied: click in /Users/mbondarenko/opt/anaconda3/envs/long-doc-summ/lib/python3.8/site-packages (from nltk) (8.1.4)\n",
      "Requirement already satisfied: joblib in /Users/mbondarenko/opt/anaconda3/envs/long-doc-summ/lib/python3.8/site-packages (from nltk) (1.3.1)\n",
      "Requirement already satisfied: regex>=2021.8.3 in /Users/mbondarenko/opt/anaconda3/envs/long-doc-summ/lib/python3.8/site-packages (from nltk) (2023.6.3)\n",
      "Requirement already satisfied: tqdm in /Users/mbondarenko/opt/anaconda3/envs/long-doc-summ/lib/python3.8/site-packages (from nltk) (4.65.0)\n",
      "Note: you may need to restart the kernel to use updated packages.\n"
     ]
    }
   ],
   "source": [
    "%pip install rouge_score\n",
    "%pip install nltk"
   ]
  },
  {
   "cell_type": "code",
   "execution_count": 22,
   "metadata": {},
   "outputs": [
    {
     "name": "stderr",
     "output_type": "stream",
     "text": [
      "/Users/mbondarenko/opt/anaconda3/envs/long-doc-summ/lib/python3.8/site-packages/tqdm/auto.py:21: TqdmWarning: IProgress not found. Please update jupyter and ipywidgets. See https://ipywidgets.readthedocs.io/en/stable/user_install.html\n",
      "  from .autonotebook import tqdm as notebook_tqdm\n"
     ]
    }
   ],
   "source": [
    "import evaluate\n",
    "\n",
    "rouge_score = evaluate.load(\"rouge\")"
   ]
  },
  {
   "cell_type": "code",
   "execution_count": 33,
   "metadata": {},
   "outputs": [
    {
     "name": "stderr",
     "output_type": "stream",
     "text": [
      "[nltk_data] Downloading package wordnet to\n",
      "[nltk_data]     /Users/mbondarenko/nltk_data...\n",
      "[nltk_data]   Package wordnet is already up-to-date!\n",
      "[nltk_data] Downloading package punkt to\n",
      "[nltk_data]     /Users/mbondarenko/nltk_data...\n",
      "[nltk_data]   Package punkt is already up-to-date!\n",
      "[nltk_data] Downloading package omw-1.4 to\n",
      "[nltk_data]     /Users/mbondarenko/nltk_data...\n",
      "[nltk_data]   Package omw-1.4 is already up-to-date!\n"
     ]
    }
   ],
   "source": [
    "meteor = evaluate.load(\"meteor\")\n",
    "rouge = evaluate.load('rouge')"
   ]
  },
  {
   "cell_type": "code",
   "execution_count": 38,
   "metadata": {},
   "outputs": [
    {
     "name": "stdout",
     "output_type": "stream",
     "text": [
      "Collecting bert_score\n",
      "  Downloading bert_score-0.3.13-py3-none-any.whl (61 kB)\n",
      "\u001b[2K     \u001b[90m━━━━━━━━━━━━━━━━━━━━━━━━━━━━━━━━━━━━━━━━\u001b[0m \u001b[32m61.1/61.1 kB\u001b[0m \u001b[31m5.4 MB/s\u001b[0m eta \u001b[36m0:00:00\u001b[0m\n",
      "\u001b[?25hRequirement already satisfied: torch>=1.0.0 in /Users/mbondarenko/opt/anaconda3/envs/long-doc-summ/lib/python3.8/site-packages (from bert_score) (2.0.1)\n",
      "Requirement already satisfied: pandas>=1.0.1 in /Users/mbondarenko/opt/anaconda3/envs/long-doc-summ/lib/python3.8/site-packages (from bert_score) (2.0.3)\n",
      "Requirement already satisfied: transformers>=3.0.0 in /Users/mbondarenko/opt/anaconda3/envs/long-doc-summ/lib/python3.8/site-packages (from bert_score) (4.30.2)\n",
      "Requirement already satisfied: numpy in /Users/mbondarenko/opt/anaconda3/envs/long-doc-summ/lib/python3.8/site-packages (from bert_score) (1.24.4)\n",
      "Requirement already satisfied: requests in /Users/mbondarenko/opt/anaconda3/envs/long-doc-summ/lib/python3.8/site-packages (from bert_score) (2.31.0)\n",
      "Requirement already satisfied: tqdm>=4.31.1 in /Users/mbondarenko/opt/anaconda3/envs/long-doc-summ/lib/python3.8/site-packages (from bert_score) (4.65.0)\n",
      "Requirement already satisfied: matplotlib in /Users/mbondarenko/opt/anaconda3/envs/long-doc-summ/lib/python3.8/site-packages (from bert_score) (3.7.2)\n",
      "Requirement already satisfied: packaging>=20.9 in /Users/mbondarenko/opt/anaconda3/envs/long-doc-summ/lib/python3.8/site-packages (from bert_score) (23.1)\n",
      "Requirement already satisfied: python-dateutil>=2.8.2 in /Users/mbondarenko/opt/anaconda3/envs/long-doc-summ/lib/python3.8/site-packages (from pandas>=1.0.1->bert_score) (2.8.2)\n",
      "Requirement already satisfied: pytz>=2020.1 in /Users/mbondarenko/opt/anaconda3/envs/long-doc-summ/lib/python3.8/site-packages (from pandas>=1.0.1->bert_score) (2023.3)\n",
      "Requirement already satisfied: tzdata>=2022.1 in /Users/mbondarenko/opt/anaconda3/envs/long-doc-summ/lib/python3.8/site-packages (from pandas>=1.0.1->bert_score) (2023.3)\n",
      "Requirement already satisfied: filelock in /Users/mbondarenko/opt/anaconda3/envs/long-doc-summ/lib/python3.8/site-packages (from torch>=1.0.0->bert_score) (3.12.2)\n",
      "Requirement already satisfied: typing-extensions in /Users/mbondarenko/opt/anaconda3/envs/long-doc-summ/lib/python3.8/site-packages (from torch>=1.0.0->bert_score) (4.7.1)\n",
      "Requirement already satisfied: sympy in /Users/mbondarenko/opt/anaconda3/envs/long-doc-summ/lib/python3.8/site-packages (from torch>=1.0.0->bert_score) (1.12)\n",
      "Requirement already satisfied: networkx in /Users/mbondarenko/opt/anaconda3/envs/long-doc-summ/lib/python3.8/site-packages (from torch>=1.0.0->bert_score) (3.1)\n",
      "Requirement already satisfied: jinja2 in /Users/mbondarenko/opt/anaconda3/envs/long-doc-summ/lib/python3.8/site-packages (from torch>=1.0.0->bert_score) (3.1.2)\n",
      "Requirement already satisfied: huggingface-hub<1.0,>=0.14.1 in /Users/mbondarenko/opt/anaconda3/envs/long-doc-summ/lib/python3.8/site-packages (from transformers>=3.0.0->bert_score) (0.16.2)\n",
      "Requirement already satisfied: pyyaml>=5.1 in /Users/mbondarenko/opt/anaconda3/envs/long-doc-summ/lib/python3.8/site-packages (from transformers>=3.0.0->bert_score) (6.0)\n",
      "Requirement already satisfied: regex!=2019.12.17 in /Users/mbondarenko/opt/anaconda3/envs/long-doc-summ/lib/python3.8/site-packages (from transformers>=3.0.0->bert_score) (2023.6.3)\n",
      "Requirement already satisfied: tokenizers!=0.11.3,<0.14,>=0.11.1 in /Users/mbondarenko/opt/anaconda3/envs/long-doc-summ/lib/python3.8/site-packages (from transformers>=3.0.0->bert_score) (0.13.3)\n",
      "Requirement already satisfied: safetensors>=0.3.1 in /Users/mbondarenko/opt/anaconda3/envs/long-doc-summ/lib/python3.8/site-packages (from transformers>=3.0.0->bert_score) (0.3.1)\n",
      "Requirement already satisfied: contourpy>=1.0.1 in /Users/mbondarenko/opt/anaconda3/envs/long-doc-summ/lib/python3.8/site-packages (from matplotlib->bert_score) (1.1.0)\n",
      "Requirement already satisfied: cycler>=0.10 in /Users/mbondarenko/opt/anaconda3/envs/long-doc-summ/lib/python3.8/site-packages (from matplotlib->bert_score) (0.11.0)\n",
      "Requirement already satisfied: fonttools>=4.22.0 in /Users/mbondarenko/opt/anaconda3/envs/long-doc-summ/lib/python3.8/site-packages (from matplotlib->bert_score) (4.40.0)\n",
      "Requirement already satisfied: kiwisolver>=1.0.1 in /Users/mbondarenko/opt/anaconda3/envs/long-doc-summ/lib/python3.8/site-packages (from matplotlib->bert_score) (1.4.4)\n",
      "Requirement already satisfied: pillow>=6.2.0 in /Users/mbondarenko/opt/anaconda3/envs/long-doc-summ/lib/python3.8/site-packages (from matplotlib->bert_score) (10.0.0)\n",
      "Requirement already satisfied: pyparsing<3.1,>=2.3.1 in /Users/mbondarenko/opt/anaconda3/envs/long-doc-summ/lib/python3.8/site-packages (from matplotlib->bert_score) (3.0.9)\n",
      "Requirement already satisfied: importlib-resources>=3.2.0 in /Users/mbondarenko/opt/anaconda3/envs/long-doc-summ/lib/python3.8/site-packages (from matplotlib->bert_score) (6.0.0)\n",
      "Requirement already satisfied: charset-normalizer<4,>=2 in /Users/mbondarenko/opt/anaconda3/envs/long-doc-summ/lib/python3.8/site-packages (from requests->bert_score) (3.1.0)\n",
      "Requirement already satisfied: idna<4,>=2.5 in /Users/mbondarenko/opt/anaconda3/envs/long-doc-summ/lib/python3.8/site-packages (from requests->bert_score) (3.4)\n",
      "Requirement already satisfied: urllib3<3,>=1.21.1 in /Users/mbondarenko/opt/anaconda3/envs/long-doc-summ/lib/python3.8/site-packages (from requests->bert_score) (2.0.3)\n",
      "Requirement already satisfied: certifi>=2017.4.17 in /Users/mbondarenko/opt/anaconda3/envs/long-doc-summ/lib/python3.8/site-packages (from requests->bert_score) (2023.5.7)\n",
      "Requirement already satisfied: fsspec in /Users/mbondarenko/opt/anaconda3/envs/long-doc-summ/lib/python3.8/site-packages (from huggingface-hub<1.0,>=0.14.1->transformers>=3.0.0->bert_score) (2023.6.0)\n",
      "Requirement already satisfied: zipp>=3.1.0 in /Users/mbondarenko/opt/anaconda3/envs/long-doc-summ/lib/python3.8/site-packages (from importlib-resources>=3.2.0->matplotlib->bert_score) (3.15.0)\n",
      "Requirement already satisfied: six>=1.5 in /Users/mbondarenko/opt/anaconda3/envs/long-doc-summ/lib/python3.8/site-packages (from python-dateutil>=2.8.2->pandas>=1.0.1->bert_score) (1.16.0)\n",
      "Requirement already satisfied: MarkupSafe>=2.0 in /Users/mbondarenko/opt/anaconda3/envs/long-doc-summ/lib/python3.8/site-packages (from jinja2->torch>=1.0.0->bert_score) (2.1.3)\n",
      "Requirement already satisfied: mpmath>=0.19 in /Users/mbondarenko/opt/anaconda3/envs/long-doc-summ/lib/python3.8/site-packages (from sympy->torch>=1.0.0->bert_score) (1.3.0)\n",
      "Installing collected packages: bert_score\n",
      "Successfully installed bert_score-0.3.13\n",
      "Note: you may need to restart the kernel to use updated packages.\n"
     ]
    }
   ],
   "source": [
    "pip install bert_score"
   ]
  },
  {
   "cell_type": "code",
   "execution_count": 39,
   "metadata": {},
   "outputs": [],
   "source": [
    "bertscore = evaluate.load('bertscore')"
   ]
  },
  {
   "cell_type": "code",
   "execution_count": 47,
   "metadata": {},
   "outputs": [
    {
     "name": "stdout",
     "output_type": "stream",
     "text": [
      "{'rouge1': 0.41354723707664887, 'rouge2': 0.11091234347048301, 'rougeL': 0.19576719576719573, 'rougeLsum': 0.25396825396825395}\n",
      "{'meteor': 0.35806239548866164}\n"
     ]
    }
   ],
   "source": [
    "\n",
    "predictions = [df[\"new_summary\"][0]]\n",
    "references = [df[\"summaries\"][0]]\n",
    "print(rouge.compute(predictions=predictions,references=references))\n",
    "print(meteor.compute(predictions=predictions,references=references))"
   ]
  },
  {
   "cell_type": "code",
   "execution_count": 48,
   "metadata": {},
   "outputs": [
    {
     "name": "stdout",
     "output_type": "stream",
     "text": [
      "{'precision': [0.7972560524940491], 'recall': [0.8193682432174683], 'f1': [0.7973999381065369], 'hashcode': 'distilbert-base-uncased_L5_no-idf_version=0.3.12(hug_trans=4.30.2)'}\n"
     ]
    }
   ],
   "source": [
    "from evaluate import load\n",
    "bertscore = load(\"bertscore\")\n",
    "results = bertscore.compute(predictions=predictions, references=references, model_type=\"distilbert-base-uncased\")\n",
    "print(results)"
   ]
  },
  {
   "cell_type": "code",
   "execution_count": null,
   "metadata": {},
   "outputs": [],
   "source": []
  }
 ],
 "metadata": {
  "kernelspec": {
   "display_name": "Python 3",
   "language": "python",
   "name": "python3"
  },
  "language_info": {
   "codemirror_mode": {
    "name": "ipython",
    "version": 3
   },
   "file_extension": ".py",
   "mimetype": "text/x-python",
   "name": "python",
   "nbconvert_exporter": "python",
   "pygments_lexer": "ipython3",
   "version": "3.8.0"
  },
  "orig_nbformat": 4
 },
 "nbformat": 4,
 "nbformat_minor": 2
}
