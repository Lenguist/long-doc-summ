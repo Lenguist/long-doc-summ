{
 "cells": [
  {
   "cell_type": "code",
   "execution_count": 1,
   "metadata": {},
   "outputs": [],
   "source": [
    "# take untokenized data\n",
    "# compile it into one table\n",
    "# get avarage length of recap, average length of dialogue, for each subset of data ()"
   ]
  },
  {
   "cell_type": "code",
   "execution_count": 3,
   "metadata": {},
   "outputs": [
    {
     "name": "stdout",
     "output_type": "stream",
     "text": [
      "Note: you may need to restart the kernel to use updated packages.\n"
     ]
    }
   ],
   "source": [
    "# install transformers library to get GPT2 tokenizer\n",
    "%pip install transformers --quiet\n",
    "\n",
    "# initializing gpt2 tokenizer\n",
    "from transformers import AutoTokenizer\n",
    "tokenizer = AutoTokenizer.from_pretrained(\"gpt2\")"
   ]
  },
  {
   "cell_type": "code",
   "execution_count": null,
   "metadata": {},
   "outputs": [],
   "source": [
    "import pandas as pd\n",
    "import json\n",
    "import os\n",
    "\n",
    "# define the directory\n",
    "dir_path = 'SummScreen_raw/fd'\n",
    "\n",
    "# initialize an empty list to store each json data\n",
    "fd_data = []\n",
    "\n",
    "# iterate over each file in the directory\n",
    "for filename in os.listdir(dir_path):\n",
    "    if filename.endswith('.json'):  # make sure to only deal with .json files\n",
    "        file_path = os.path.join(dir_path, filename)\n",
    "        with open(file_path, 'r') as f:\n",
    "            data = json.load(f)  # load json data from file\n",
    "            # create a new field 'transcript_joined' which is the transcript list joined into one string\n",
    "            data['transcript_joined'] = ' '.join(data['Transcript'])\n",
    "            data['Recap'] = ' '.join(data['Recap'])\n",
    "            # create a new field 'transcript_length' which is the length of the 'transcript_joined' string\n",
    "            # replace it with tokenizer later\n",
    "            #data['transcript_length'] = len(tokenizer(data['transcript_joined'])['input_ids'])\n",
    "            #data['recap_length'] = len(tokenizer(data['transcript_joined'])['input_ids'])\n",
    "            data['approx_transcript_length'] = len(data['transcript_joined'].split(\" \"))\n",
    "            data['approx_recap_length'] = len(data['Recap'].split(\" \"))\n",
    "            fd_data.append(data)  # add this data dict to the list\n",
    "\n",
    "# now data_list is a list of dicts, can be directly used to create dataframe\n",
    "fd_df = pd.DataFrame(fd_data)"
   ]
  }
 ],
 "metadata": {
  "kernelspec": {
   "display_name": "long-doc-summ",
   "language": "python",
   "name": "python3"
  },
  "language_info": {
   "codemirror_mode": {
    "name": "ipython",
    "version": 3
   },
   "file_extension": ".py",
   "mimetype": "text/x-python",
   "name": "python",
   "nbconvert_exporter": "python",
   "pygments_lexer": "ipython3",
   "version": "3.8.0"
  },
  "orig_nbformat": 4
 },
 "nbformat": 4,
 "nbformat_minor": 2
}
