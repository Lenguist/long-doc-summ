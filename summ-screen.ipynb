{
 "cells": [
  {
   "cell_type": "code",
   "execution_count": 1,
   "metadata": {},
   "outputs": [
    {
     "name": "stdout",
     "output_type": "stream",
     "text": [
      "Collecting jsonlines\n",
      "  Downloading jsonlines-3.1.0-py3-none-any.whl (8.6 kB)\n",
      "Requirement already satisfied: attrs>=19.2.0 in /Users/mbondarenko/opt/anaconda3/envs/long-doc-summ/lib/python3.8/site-packages (from jsonlines) (23.1.0)\n",
      "Installing collected packages: jsonlines\n",
      "Successfully installed jsonlines-3.1.0\n",
      "Note: you may need to restart the kernel to use updated packages.\n"
     ]
    }
   ],
   "source": [
    "%pip install jsonlines"
   ]
  },
  {
   "cell_type": "code",
   "execution_count": 2,
   "metadata": {},
   "outputs": [
    {
     "ename": "FileNotFoundError",
     "evalue": "[Errno 2] No such file or directory: 'SummScreen_raw/ForeverDreaming/fd_anonymize_train.json'",
     "output_type": "error",
     "traceback": [
      "\u001b[0;31m---------------------------------------------------------------------------\u001b[0m",
      "\u001b[0;31mFileNotFoundError\u001b[0m                         Traceback (most recent call last)",
      "Cell \u001b[0;32mIn[2], line 17\u001b[0m\n\u001b[1;32m     15\u001b[0m \u001b[39mif\u001b[39;00m \u001b[39m\"\u001b[39m\u001b[39manonymize\u001b[39m\u001b[39m\"\u001b[39m \u001b[39min\u001b[39;00m fn:\n\u001b[1;32m     16\u001b[0m     newlines \u001b[39m=\u001b[39m []\n\u001b[0;32m---> 17\u001b[0m     \u001b[39mwith\u001b[39;00m \u001b[39mopen\u001b[39;49m(os\u001b[39m.\u001b[39;49mpath\u001b[39m.\u001b[39;49mjoin(out_path, fn), \u001b[39m'\u001b[39;49m\u001b[39mr\u001b[39;49m\u001b[39m'\u001b[39;49m) \u001b[39mas\u001b[39;00m json_file:\n\u001b[1;32m     18\u001b[0m         \u001b[39mfor\u001b[39;00m json_obj \u001b[39min\u001b[39;00m tqdm(jsonlines\u001b[39m.\u001b[39mReader(json_file), ncols\u001b[39m=\u001b[39m\u001b[39m70\u001b[39m):\n\u001b[1;32m     19\u001b[0m             json_obj[\u001b[39m'\u001b[39m\u001b[39mRecap\u001b[39m\u001b[39m'\u001b[39m] \u001b[39m=\u001b[39m [x\u001b[39m.\u001b[39mreplace(\u001b[39m'\u001b[39m\u001b[39m . \u001b[39m\u001b[39m'\u001b[39m, \u001b[39m'\u001b[39m\u001b[39m. \u001b[39m\u001b[39m'\u001b[39m) \u001b[39mfor\u001b[39;00m x \u001b[39min\u001b[39;00m json_obj[\u001b[39m'\u001b[39m\u001b[39mRecap\u001b[39m\u001b[39m'\u001b[39m]]\n",
      "File \u001b[0;32m~/opt/anaconda3/envs/long-doc-summ/lib/python3.8/site-packages/IPython/core/interactiveshell.py:284\u001b[0m, in \u001b[0;36m_modified_open\u001b[0;34m(file, *args, **kwargs)\u001b[0m\n\u001b[1;32m    277\u001b[0m \u001b[39mif\u001b[39;00m file \u001b[39min\u001b[39;00m {\u001b[39m0\u001b[39m, \u001b[39m1\u001b[39m, \u001b[39m2\u001b[39m}:\n\u001b[1;32m    278\u001b[0m     \u001b[39mraise\u001b[39;00m \u001b[39mValueError\u001b[39;00m(\n\u001b[1;32m    279\u001b[0m         \u001b[39mf\u001b[39m\u001b[39m\"\u001b[39m\u001b[39mIPython won\u001b[39m\u001b[39m'\u001b[39m\u001b[39mt let you open fd=\u001b[39m\u001b[39m{\u001b[39;00mfile\u001b[39m}\u001b[39;00m\u001b[39m by default \u001b[39m\u001b[39m\"\u001b[39m\n\u001b[1;32m    280\u001b[0m         \u001b[39m\"\u001b[39m\u001b[39mas it is likely to crash IPython. If you know what you are doing, \u001b[39m\u001b[39m\"\u001b[39m\n\u001b[1;32m    281\u001b[0m         \u001b[39m\"\u001b[39m\u001b[39myou can use builtins\u001b[39m\u001b[39m'\u001b[39m\u001b[39m open.\u001b[39m\u001b[39m\"\u001b[39m\n\u001b[1;32m    282\u001b[0m     )\n\u001b[0;32m--> 284\u001b[0m \u001b[39mreturn\u001b[39;00m io_open(file, \u001b[39m*\u001b[39;49margs, \u001b[39m*\u001b[39;49m\u001b[39m*\u001b[39;49mkwargs)\n",
      "\u001b[0;31mFileNotFoundError\u001b[0m: [Errno 2] No such file or directory: 'SummScreen_raw/ForeverDreaming/fd_anonymize_train.json'"
     ]
    }
   ],
   "source": [
    "import os\n",
    "import jsonlines\n",
    "import json\n",
    "from nltk.tokenize.treebank import TreebankWordDetokenizer\n",
    "from tqdm import tqdm\n",
    "\n",
    "dirs = ['ForeverDreaming', 'TVMegaSite']\n",
    "for dirname in dirs:\n",
    "    directory_path = f'SummScreen/{dirname}'\n",
    "    out_path = f'SummScreen_raw/{dirname}'\n",
    "\n",
    "    file_names = os.listdir(directory_path)\n",
    "\n",
    "    for fn in file_names:\n",
    "        if \"anonymize\" in fn:\n",
    "            newlines = []\n",
    "            with open(os.path.join(out_path, fn), 'r') as json_file:\n",
    "                for json_obj in tqdm(jsonlines.Reader(json_file), ncols=70):\n",
    "                    json_obj['Recap'] = [x.replace(' . ', '. ') for x in json_obj['Recap']]\n",
    "                    json_obj['Transcript'] = [x.replace(' . ', '. ') for x in json_obj['Transcript']]\n",
    "                    newlines.append(json_obj)\n",
    "\n",
    "            with open(os.path.join(out_path, fn), 'w') as json_file:\n",
    "                writer = jsonlines.Writer(json_file)\n",
    "                for dict_obj in newlines:\n",
    "                    writer.write(dict_obj)\n",
    "\n"
   ]
  },
  {
   "cell_type": "code",
   "execution_count": null,
   "metadata": {},
   "outputs": [],
   "source": []
  }
 ],
 "metadata": {
  "kernelspec": {
   "display_name": "long-doc-summ",
   "language": "python",
   "name": "python3"
  },
  "language_info": {
   "codemirror_mode": {
    "name": "ipython",
    "version": 3
   },
   "file_extension": ".py",
   "mimetype": "text/x-python",
   "name": "python",
   "nbconvert_exporter": "python",
   "pygments_lexer": "ipython3",
   "version": "3.8.0"
  },
  "orig_nbformat": 4
 },
 "nbformat": 4,
 "nbformat_minor": 2
}
