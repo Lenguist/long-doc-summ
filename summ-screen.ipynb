{
 "cells": [
  {
   "cell_type": "code",
   "execution_count": 1,
   "metadata": {},
   "outputs": [
    {
     "ename": "ModuleNotFoundError",
     "evalue": "No module named 'jsonlines'",
     "output_type": "error",
     "traceback": [
      "\u001b[0;31m---------------------------------------------------------------------------\u001b[0m",
      "\u001b[0;31mModuleNotFoundError\u001b[0m                       Traceback (most recent call last)",
      "Cell \u001b[0;32mIn[1], line 2\u001b[0m\n\u001b[1;32m      1\u001b[0m \u001b[39mimport\u001b[39;00m \u001b[39mos\u001b[39;00m\n\u001b[0;32m----> 2\u001b[0m \u001b[39mimport\u001b[39;00m \u001b[39mjsonlines\u001b[39;00m\n\u001b[1;32m      3\u001b[0m \u001b[39mimport\u001b[39;00m \u001b[39mjson\u001b[39;00m\n\u001b[1;32m      4\u001b[0m \u001b[39mfrom\u001b[39;00m \u001b[39mnltk\u001b[39;00m\u001b[39m.\u001b[39;00m\u001b[39mtokenize\u001b[39;00m\u001b[39m.\u001b[39;00m\u001b[39mtreebank\u001b[39;00m \u001b[39mimport\u001b[39;00m TreebankWordDetokenizer\n",
      "\u001b[0;31mModuleNotFoundError\u001b[0m: No module named 'jsonlines'"
     ]
    }
   ],
   "source": [
    "import os\n",
    "import jsonlines\n",
    "import json\n",
    "from nltk.tokenize.treebank import TreebankWordDetokenizer\n",
    "from tqdm import tqdm\n",
    "\n",
    "dirs = ['ForeverDreaming', 'TVMegaSite']\n",
    "for dirname in dirs:\n",
    "    directory_path = f'summscreen/tokenized/{dirname}'\n",
    "    out_path = f'summscreen/untokenized/{dirname}'\n",
    "\n",
    "    file_names = os.listdir(directory_path)\n",
    "\n",
    "    for fn in file_names:\n",
    "        if \"anonymize\" in fn:\n",
    "            newlines = []\n",
    "            with open(os.path.join(out_path, fn), 'r') as json_file:\n",
    "                for json_obj in tqdm(jsonlines.Reader(json_file), ncols=70):\n",
    "                    json_obj['Recap'] = [x.replace(' . ', '. ') for x in json_obj['Recap']]\n",
    "                    json_obj['Transcript'] = [x.replace(' . ', '. ') for x in json_obj['Transcript']]\n",
    "                    newlines.append(json_obj)\n",
    "\n",
    "            with open(os.path.join(out_path, fn), 'w') as json_file:\n",
    "                writer = jsonlines.Writer(json_file)\n",
    "                for dict_obj in newlines:\n",
    "                    writer.write(dict_obj)\n",
    "\n"
   ]
  },
  {
   "cell_type": "code",
   "execution_count": null,
   "metadata": {},
   "outputs": [],
   "source": []
  }
 ],
 "metadata": {
  "kernelspec": {
   "display_name": "long-doc-summ",
   "language": "python",
   "name": "python3"
  },
  "language_info": {
   "codemirror_mode": {
    "name": "ipython",
    "version": 3
   },
   "file_extension": ".py",
   "mimetype": "text/x-python",
   "name": "python",
   "nbconvert_exporter": "python",
   "pygments_lexer": "ipython3",
   "version": "3.8.0"
  },
  "orig_nbformat": 4
 },
 "nbformat": 4,
 "nbformat_minor": 2
}
