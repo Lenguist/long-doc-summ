{
 "cells": [
  {
   "cell_type": "code",
   "execution_count": 1,
   "metadata": {},
   "outputs": [
    {
     "name": "stdout",
     "output_type": "stream",
     "text": [
      "Requirement already satisfied: jsonlines in /Users/mbondarenko/opt/anaconda3/envs/long-doc-summ/lib/python3.8/site-packages (3.1.0)\n",
      "Requirement already satisfied: attrs>=19.2.0 in /Users/mbondarenko/opt/anaconda3/envs/long-doc-summ/lib/python3.8/site-packages (from jsonlines) (23.1.0)\n",
      "Note: you may need to restart the kernel to use updated packages.\n"
     ]
    }
   ],
   "source": [
    "%pip install jsonlines"
   ]
  },
  {
   "cell_type": "code",
   "execution_count": null,
   "metadata": {},
   "outputs": [],
   "source": [
    "# take untokenized data\n",
    "# compile it into one table\n",
    "# get avarage length of recap, average length of dialogue, for each subset of data ()"
   ]
  },
  {
   "cell_type": "code",
   "execution_count": 22,
   "metadata": {},
   "outputs": [],
   "source": [
    "import warnings\n",
    "\n",
    "# Ignore warnings\n",
    "warnings.filterwarnings('ignore')\n",
    "\n",
    "# Now run your tokenization code\n",
    "# ...\n"
   ]
  },
  {
   "cell_type": "code",
   "execution_count": 7,
   "metadata": {},
   "outputs": [
    {
     "name": "stdout",
     "output_type": "stream",
     "text": [
      "Note: you may need to restart the kernel to use updated packages.\n"
     ]
    },
    {
     "name": "stderr",
     "output_type": "stream",
     "text": [
      "/Users/mbondarenko/opt/anaconda3/envs/long-doc-summ/lib/python3.8/site-packages/tqdm/auto.py:21: TqdmWarning: IProgress not found. Please update jupyter and ipywidgets. See https://ipywidgets.readthedocs.io/en/stable/user_install.html\n",
      "  from .autonotebook import tqdm as notebook_tqdm\n",
      "Downloading: 100%|██████████| 665/665 [00:00<00:00, 404kB/s]\n",
      "Downloading: 100%|██████████| 1.04M/1.04M [00:00<00:00, 6.79MB/s]\n",
      "Downloading: 100%|██████████| 456k/456k [00:00<00:00, 7.57MB/s]\n"
     ]
    }
   ],
   "source": [
    "# install transformers library to get GPT2 tokenizer\n",
    "%pip install transformers --quiet\n",
    "\n",
    "# initializing gpt2 tokenizer\n",
    "from transformers import AutoTokenizer\n",
    "tokenizer = AutoTokenizer.from_pretrained(\"gpt2\")"
   ]
  },
  {
   "cell_type": "code",
   "execution_count": 31,
   "metadata": {},
   "outputs": [],
   "source": [
    "import pandas as pd\n",
    "import json\n",
    "import os\n",
    "\n",
    "# define the directory\n",
    "dir_path = 'SummScreen_raw/fd'\n",
    "\n",
    "# initialize an empty list to store each json data\n",
    "fd_data = []\n",
    "\n",
    "# iterate over each file in the directory\n",
    "for filename in os.listdir(dir_path):\n",
    "    if filename.endswith('.json'):  # make sure to only deal with .json files\n",
    "        file_path = os.path.join(dir_path, filename)\n",
    "        with open(file_path, 'r') as f:\n",
    "            data = json.load(f)  # load json data from file\n",
    "            # create a new field 'transcript_joined' which is the transcript list joined into one string\n",
    "            data['transcript_joined'] = ' '.join(data['Transcript'])\n",
    "            data['Recap'] = ' '.join(data['Recap'])\n",
    "            # create a new field 'transcript_length' which is the length of the 'transcript_joined' string\n",
    "            # replace it with tokenizer later\n",
    "            #data['transcript_length'] = len(tokenizer(data['transcript_joined'])['input_ids'])\n",
    "            #data['recap_length'] = len(tokenizer(data['transcript_joined'])['input_ids'])\n",
    "            data['approx_transcript_length'] = len(data['transcript_joined'].split(\" \"))\n",
    "            data['approx_recap_length'] = len(data['Recap'].split(\" \"))\n",
    "            fd_data.append(data)  # add this data dict to the list\n",
    "\n",
    "# now data_list is a list of dicts, can be directly used to create dataframe\n",
    "fd_df = pd.DataFrame(fd_data)"
   ]
  },
  {
   "cell_type": "code",
   "execution_count": 47,
   "metadata": {},
   "outputs": [],
   "source": [
    "# define the directory\n",
    "dir_path = 'SummScreen_raw/tms'\n",
    "\n",
    "# initialize an empty list to store each json data\n",
    "tms_data = []\n",
    "\n",
    "# iterate over each file in the directory\n",
    "for filename in os.listdir(dir_path):\n",
    "    if filename.endswith('.json'):  # make sure to only deal with .json files\n",
    "        file_path = os.path.join(dir_path, filename)\n",
    "        with open(file_path, 'r') as f:\n",
    "            data = json.load(f)  # load json data from file\n",
    "            # create a new field 'transcript_joined' which is the transcript list joined into one string\n",
    "            data['transcript_joined'] = ' '.join(data['Transcript'])\n",
    "            data['Recap'] = ' '.join(data['Recap'])\n",
    "            # create a new field 'transcript_length' which is the length of the 'transcript_joined' string\n",
    "            # replace it with tokenizer later\n",
    "            #data['transcript_length'] = len(tokenizer(data['transcript_joined'])['input_ids'])\n",
    "            #data['recap_length'] = len(tokenizer(data['transcript_joined'])['input_ids'])\n",
    "            data['approx_transcript_length'] = len(data['transcript_joined'].split(\" \"))\n",
    "            data['approx_recap_length'] = len(data['Recap'].split(\" \"))\n",
    "            tms_data.append(data)  # add this data dict to the list\n",
    "\n",
    "# now data_list is a list of dicts, can be directly used to create dataframe\n",
    "tms_df = pd.DataFrame(tms_data)"
   ]
  },
  {
   "cell_type": "code",
   "execution_count": 48,
   "metadata": {},
   "outputs": [
    {
     "data": {
      "text/plain": [
       "23674"
      ]
     },
     "execution_count": 48,
     "metadata": {},
     "output_type": "execute_result"
    }
   ],
   "source": [
    "len(tms_df)"
   ]
  },
  {
   "cell_type": "code",
   "execution_count": 49,
   "metadata": {},
   "outputs": [
    {
     "data": {
      "text/plain": [
       "4398"
      ]
     },
     "execution_count": 49,
     "metadata": {},
     "output_type": "execute_result"
    }
   ],
   "source": [
    "len(fd_df)"
   ]
  },
  {
   "cell_type": "code",
   "execution_count": null,
   "metadata": {},
   "outputs": [],
   "source": [
    "#sample 100 form TVMegaSite"
   ]
  },
  {
   "cell_type": "code",
   "execution_count": null,
   "metadata": {},
   "outputs": [],
   "source": [
    "#>3k <7.3k\n",
    "#5 from the same show, 20 shows sampled randomly"
   ]
  },
  {
   "cell_type": "code",
   "execution_count": null,
   "metadata": {},
   "outputs": [],
   "source": [
    "# sample 100 from both forever dreaming and tms,\n",
    "# then ran snac on them to see which reference summaries have higher coherence quality \n",
    "# decide from there"
   ]
  },
  {
   "cell_type": "code",
   "execution_count": 52,
   "metadata": {},
   "outputs": [
    {
     "name": "stdout",
     "output_type": "stream",
     "text": [
      "Average transcript length:  4761.670017740982\n",
      "Average recap length:  337.8455267381938\n"
     ]
    }
   ],
   "source": [
    "#TVMegaSite\n",
    "average_transcript_length = tms_df['approx_transcript_length'].mean()\n",
    "average_recap_length = tms_df['approx_recap_length'].mean()\n",
    "\n",
    "print(\"Average transcript length: \", average_transcript_length)\n",
    "print(\"Average recap length: \", average_recap_length)\n"
   ]
  },
  {
   "cell_type": "code",
   "execution_count": 53,
   "metadata": {},
   "outputs": [
    {
     "name": "stdout",
     "output_type": "stream",
     "text": [
      "Average transcript length:  5623.9763528876765\n",
      "Average recap length:  99.12551159618008\n"
     ]
    }
   ],
   "source": [
    "average_transcript_length = fd_df['approx_transcript_length'].mean()\n",
    "average_recap_length = fd_df['approx_recap_length'].mean()\n",
    "\n",
    "print(\"Average transcript length: \", average_transcript_length)\n",
    "print(\"Average recap length: \", average_recap_length)"
   ]
  },
  {
   "cell_type": "code",
   "execution_count": 55,
   "metadata": {},
   "outputs": [],
   "source": [
    "# Sample a random row from the DataFrame\n",
    "sample_row = fd_df.sample(1)\n",
    "\n",
    "# Get the recap and transcript from the sampled row\n",
    "sample_recap = sample_row['Recap'].values[0]\n",
    "sample_transcript = sample_row['transcript_joined'].values[0]\n",
    "\n",
    "# Write the recap and transcript to separate text files\n",
    "with open('sample_recap_fd.txt', 'w') as f:\n",
    "    f.write(sample_recap)\n",
    "\n",
    "with open('sample_transcript_fd.txt', 'w') as f:\n",
    "    f.write(sample_transcript)\n"
   ]
  },
  {
   "cell_type": "code",
   "execution_count": 56,
   "metadata": {},
   "outputs": [],
   "source": [
    "# Sample a random row from the DataFrame\n",
    "sample_row = tms_df.sample(1)\n",
    "\n",
    "# Get the recap and transcript from the sampled row\n",
    "sample_recap = sample_row['Recap'].values[0]\n",
    "sample_transcript = sample_row['transcript_joined'].values[0]\n",
    "\n",
    "# Write the recap and transcript to separate text files\n",
    "with open('sample_recap_tms.txt', 'w') as f:\n",
    "    f.write(sample_recap)\n",
    "\n",
    "with open('sample_transcript_tms.txt', 'w') as f:\n",
    "    f.write(sample_transcript)\n"
   ]
  },
  {
   "cell_type": "code",
   "execution_count": null,
   "metadata": {},
   "outputs": [],
   "source": []
  }
 ],
 "metadata": {
  "kernelspec": {
   "display_name": "long-doc-summ",
   "language": "python",
   "name": "python3"
  },
  "language_info": {
   "codemirror_mode": {
    "name": "ipython",
    "version": 3
   },
   "file_extension": ".py",
   "mimetype": "text/x-python",
   "name": "python",
   "nbconvert_exporter": "python",
   "pygments_lexer": "ipython3",
   "version": "3.8.0"
  },
  "orig_nbformat": 4
 },
 "nbformat": 4,
 "nbformat_minor": 2
}
